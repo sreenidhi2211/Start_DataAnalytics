{
  "nbformat": 4,
  "nbformat_minor": 0,
  "metadata": {
    "colab": {
      "provenance": [],
      "toc_visible": true,
      "authorship_tag": "ABX9TyOycKGdnH3Zw9JIsePFJwDM",
      "include_colab_link": true
    },
    "kernelspec": {
      "name": "python3",
      "display_name": "Python 3"
    },
    "language_info": {
      "name": "python"
    }
  },
  "cells": [
    {
      "cell_type": "markdown",
      "metadata": {
        "id": "view-in-github",
        "colab_type": "text"
      },
      "source": [
        "<a href=\"https://colab.research.google.com/github/sreenidhi2211/Start_DataAnalytics/blob/main/NUMPY.ipynb\" target=\"_parent\"><img src=\"https://colab.research.google.com/assets/colab-badge.svg\" alt=\"Open In Colab\"/></a>"
      ]
    },
    {
      "cell_type": "markdown",
      "source": [
        "#NUMPY\n",
        "numpy->numerical python\n",
        "->working on arrays\n",
        "->on matrices and linear algebra\n",
        "numpy is used to access arrays faster\n",
        "In numpy elements are stored in ONE continous locations(single block)"
      ],
      "metadata": {
        "id": "ZXTP3lM-wdM7"
      }
    },
    {
      "cell_type": "code",
      "source": [
        "!pip install numpy"
      ],
      "metadata": {
        "colab": {
          "base_uri": "https://localhost:8080/"
        },
        "id": "VdgBA4yyxBcB",
        "outputId": "8e5c4fcc-6a49-4597-a067-a62d920db8e8"
      },
      "execution_count": null,
      "outputs": [
        {
          "output_type": "stream",
          "name": "stdout",
          "text": [
            "Requirement already satisfied: numpy in /usr/local/lib/python3.10/dist-packages (1.25.2)\n"
          ]
        }
      ]
    },
    {
      "cell_type": "code",
      "source": [
        "import numpy as np\n"
      ],
      "metadata": {
        "id": "Xm1kJMX7xKEY"
      },
      "execution_count": null,
      "outputs": []
    },
    {
      "cell_type": "markdown",
      "source": [
        "#CREATING ARRAY\n",
        "array object==ndarrray here\n",
        "creating it using array() function->\n",
        "1-D ARRAY=List\n",
        "2-D ARRAY=combination of 1-D=Matrices\n"
      ],
      "metadata": {
        "id": "JY0dAUf6ysrV"
      }
    },
    {
      "cell_type": "markdown",
      "source": [
        "#1-D ARRAY\n",
        "variable =np.array([values])\n",
        "**INDEX** from 0 to n-1\n",
        "accessing\n",
        "print(variable[n]) for nth element\n",
        "print(variable[m:n]) for m to n element"
      ],
      "metadata": {
        "id": "aIN15U1n-1SI"
      }
    },
    {
      "cell_type": "code",
      "source": [
        "x=np.array([1,2,3,4,5])"
      ],
      "metadata": {
        "id": "sRUytOyXynmn"
      },
      "execution_count": null,
      "outputs": []
    },
    {
      "cell_type": "code",
      "source": [
        "y=np.array([3,4,6,8,9])"
      ],
      "metadata": {
        "id": "rQL9AKGD0kPk"
      },
      "execution_count": null,
      "outputs": []
    },
    {
      "cell_type": "code",
      "source": [
        "print(x)"
      ],
      "metadata": {
        "colab": {
          "base_uri": "https://localhost:8080/"
        },
        "id": "DFClSZux-V5n",
        "outputId": "8f76372d-9f34-43aa-c5f3-46add79d9fb2"
      },
      "execution_count": null,
      "outputs": [
        {
          "output_type": "stream",
          "name": "stdout",
          "text": [
            "[1 2 3 4 5]\n"
          ]
        }
      ]
    },
    {
      "cell_type": "code",
      "source": [
        "print(x[0:3])"
      ],
      "metadata": {
        "colab": {
          "base_uri": "https://localhost:8080/"
        },
        "id": "_u7M_nJY_cM2",
        "outputId": "9884b006-2499-4526-c690-0b2e9109c5ad"
      },
      "execution_count": null,
      "outputs": [
        {
          "output_type": "stream",
          "name": "stdout",
          "text": [
            "[1 2 3]\n"
          ]
        }
      ]
    },
    {
      "cell_type": "markdown",
      "source": [
        "#2-D ARRAY\n",
        "**HERE IT IS COMBINATION OF TWO 1-D ARRAYS(2 LISTS)**\n",
        "variable=np.array([elements of 1 st row],[elements of send row] and so on )\n",
        "NOTE:Elements in each row should be same\n",
        " **INDEX**(SIZE(M,N))\n",
        " FROM 0 to M-1(ROWS) ao 1st row will be 0th row\n",
        " FROM 0 to N-1(COLUMNS)\n",
        " Accesing\n",
        " print(variable[row no,clounm no])(same output without priny also)\n"
      ],
      "metadata": {
        "id": "LyFvSE8l_ALZ"
      }
    },
    {
      "cell_type": "code",
      "source": [
        "two_d=np.array([[1,3,5,7],[2,4,6,8]])"
      ],
      "metadata": {
        "id": "0VfnQbY_--T9"
      },
      "execution_count": null,
      "outputs": []
    },
    {
      "cell_type": "code",
      "source": [
        "print(two_d)"
      ],
      "metadata": {
        "colab": {
          "base_uri": "https://localhost:8080/"
        },
        "id": "5rKE_bXtAiWB",
        "outputId": "ccaedd2d-2c4f-4ce9-b63a-ac6cc7ca80d8"
      },
      "execution_count": null,
      "outputs": [
        {
          "output_type": "stream",
          "name": "stdout",
          "text": [
            "[[1 3 5 7]\n",
            " [2 4 6 8]]\n"
          ]
        }
      ]
    },
    {
      "cell_type": "code",
      "source": [
        "(two_d[1][2])"
      ],
      "metadata": {
        "colab": {
          "base_uri": "https://localhost:8080/"
        },
        "id": "zQNreQykAlmn",
        "outputId": "786668d9-268b-473c-873d-0b686eaeb332"
      },
      "execution_count": null,
      "outputs": [
        {
          "output_type": "execute_result",
          "data": {
            "text/plain": [
              "6"
            ]
          },
          "metadata": {},
          "execution_count": 8
        }
      ]
    },
    {
      "cell_type": "code",
      "source": [
        "print(two_d[1,2])"
      ],
      "metadata": {
        "colab": {
          "base_uri": "https://localhost:8080/"
        },
        "id": "GrMbb1QECxWy",
        "outputId": "c2f49416-c3f6-4751-9f7d-54269e46802d"
      },
      "execution_count": null,
      "outputs": [
        {
          "output_type": "stream",
          "name": "stdout",
          "text": [
            "6\n"
          ]
        }
      ]
    },
    {
      "cell_type": "code",
      "source": [
        "print(two_d[1][1:3])"
      ],
      "metadata": {
        "colab": {
          "base_uri": "https://localhost:8080/"
        },
        "id": "fclLV5ABDAVa",
        "outputId": "e760896c-082d-4017-c812-cce08b842876"
      },
      "execution_count": null,
      "outputs": [
        {
          "output_type": "stream",
          "name": "stdout",
          "text": [
            "[4 6]\n"
          ]
        }
      ]
    },
    {
      "cell_type": "code",
      "source": [
        "print(two_d[0])"
      ],
      "metadata": {
        "colab": {
          "base_uri": "https://localhost:8080/"
        },
        "id": "ewRwj5R3B8g4",
        "outputId": "53dbf96e-8e86-4bec-d5b9-6fa1cc43fc21"
      },
      "execution_count": null,
      "outputs": [
        {
          "output_type": "stream",
          "name": "stdout",
          "text": [
            "[1 3 5 7]\n"
          ]
        }
      ]
    },
    {
      "cell_type": "markdown",
      "source": [
        "#3-D ARRAY\n",
        "***IT IS COMBINATION OF 3 2-D ARRAYS**\n",
        "variable=np.array([[elements of 1 2-d array],[elements of 2nd 2-D array list],[3rd 2-d array ]])\n",
        "**ACCESSING**\n",
        "variable([index of the 2-d array][index of the list in the 2 _d array][index of the element])"
      ],
      "metadata": {
        "id": "YCCPgMMRCYiE"
      }
    },
    {
      "cell_type": "code",
      "source": [
        "three_d=np.array([[[1,2,3],[4,5,6]],[[2,4,6],[3,5,7]],[[9,8,7],[3,6,7]]])"
      ],
      "metadata": {
        "id": "Wc1Qa1j79irl"
      },
      "execution_count": null,
      "outputs": []
    },
    {
      "cell_type": "code",
      "source": [
        "three_d"
      ],
      "metadata": {
        "colab": {
          "base_uri": "https://localhost:8080/"
        },
        "id": "CXn4Cwpv_jkc",
        "outputId": "c9afefeb-9157-4875-da02-522ec6ecf8a1"
      },
      "execution_count": null,
      "outputs": [
        {
          "output_type": "execute_result",
          "data": {
            "text/plain": [
              "array([[[1, 2, 3],\n",
              "        [4, 5, 6]],\n",
              "\n",
              "       [[2, 4, 6],\n",
              "        [3, 5, 7]],\n",
              "\n",
              "       [[9, 8, 7],\n",
              "        [3, 6, 7]]])"
            ]
          },
          "metadata": {},
          "execution_count": 13
        }
      ]
    },
    {
      "cell_type": "code",
      "source": [
        "three_d[2][1][2]"
      ],
      "metadata": {
        "colab": {
          "base_uri": "https://localhost:8080/"
        },
        "id": "ViNJ2JuC-N7w",
        "outputId": "2856f7b2-9bc4-45b2-d353-ba6d12fee691"
      },
      "execution_count": null,
      "outputs": [
        {
          "output_type": "execute_result",
          "data": {
            "text/plain": [
              "7"
            ]
          },
          "metadata": {},
          "execution_count": 14
        }
      ]
    },
    {
      "cell_type": "code",
      "source": [
        "three_d[0][0]"
      ],
      "metadata": {
        "colab": {
          "base_uri": "https://localhost:8080/"
        },
        "id": "aq9Af7br_a8X",
        "outputId": "8f94b0a7-1b32-4dde-854b-40400364046a"
      },
      "execution_count": null,
      "outputs": [
        {
          "output_type": "execute_result",
          "data": {
            "text/plain": [
              "array([1, 2, 3])"
            ]
          },
          "metadata": {},
          "execution_count": 15
        }
      ]
    },
    {
      "cell_type": "code",
      "source": [
        "three_d[1][1][0:2]"
      ],
      "metadata": {
        "colab": {
          "base_uri": "https://localhost:8080/"
        },
        "id": "R9Mdi1nc_CTN",
        "outputId": "0d7c92e6-ae4a-44d1-daf8-83c08d1a78d2"
      },
      "execution_count": null,
      "outputs": [
        {
          "output_type": "execute_result",
          "data": {
            "text/plain": [
              "array([3, 5])"
            ]
          },
          "metadata": {},
          "execution_count": 16
        }
      ]
    },
    {
      "cell_type": "code",
      "source": [
        "three_d.shape"
      ],
      "metadata": {
        "colab": {
          "base_uri": "https://localhost:8080/"
        },
        "id": "OivIK6kABSvM",
        "outputId": "e5d29398-4f8a-486a-e39a-76a7c79f43af"
      },
      "execution_count": null,
      "outputs": [
        {
          "output_type": "execute_result",
          "data": {
            "text/plain": [
              "(3, 2, 3)"
            ]
          },
          "metadata": {},
          "execution_count": 86
        }
      ]
    },
    {
      "cell_type": "markdown",
      "source": [
        "#NUMPY COPY&VIEW\n",
        "already defined array (sayX)\n",
        "->COPY\n",
        "Variable=x.copy()\"JUST COPIED AS IT IS\"\n",
        "->VIEW\n",
        "Variable 1=x.view()\"VIEW OF CHANGE\"\n",
        "\"NOW\"\n",
        "if we change any element of X likeX[1]=1 to X[1]=32\n",
        "change appears in X\n",
        "but when you access the \"COPY\" variable (here Variable)->\n",
        "the \"array X is displayed as it is\"(before changing the index element)\n",
        "but when we access the \"view\" variable(here varaible 1)->\n",
        "the \"changed array X is displayed)\n"
      ],
      "metadata": {
        "id": "qlgEZEhR_zcP"
      }
    },
    {
      "cell_type": "code",
      "source": [
        "z=x.copy()\n",
        "a=x.view()"
      ],
      "metadata": {
        "id": "hjp4-jmIAZmN"
      },
      "execution_count": null,
      "outputs": []
    },
    {
      "cell_type": "code",
      "source": [
        "print(z)"
      ],
      "metadata": {
        "colab": {
          "base_uri": "https://localhost:8080/"
        },
        "id": "FB8aaJ-NA1SW",
        "outputId": "faa1bce0-6a1d-43b8-f7ec-c711cd4dc76d"
      },
      "execution_count": null,
      "outputs": [
        {
          "output_type": "stream",
          "name": "stdout",
          "text": [
            "[1 2 3 4 5]\n"
          ]
        }
      ]
    },
    {
      "cell_type": "code",
      "source": [
        "print(a)"
      ],
      "metadata": {
        "colab": {
          "base_uri": "https://localhost:8080/"
        },
        "id": "sQG9MotUA3q9",
        "outputId": "8cefad1a-1254-4d5c-f0f4-94c46b4de2b9"
      },
      "execution_count": null,
      "outputs": [
        {
          "output_type": "stream",
          "name": "stdout",
          "text": [
            "[1 2 3 4 5]\n"
          ]
        }
      ]
    },
    {
      "cell_type": "code",
      "source": [
        "a[2]=345"
      ],
      "metadata": {
        "id": "00vaMQuIA9Wu"
      },
      "execution_count": null,
      "outputs": []
    },
    {
      "cell_type": "code",
      "source": [
        "a"
      ],
      "metadata": {
        "colab": {
          "base_uri": "https://localhost:8080/"
        },
        "id": "j4qtnWXQBBXf",
        "outputId": "a9f5fb92-aea1-433c-90e7-d2b5ea49582a"
      },
      "execution_count": null,
      "outputs": [
        {
          "output_type": "execute_result",
          "data": {
            "text/plain": [
              "array([  1,   2, 345,   4,   5])"
            ]
          },
          "metadata": {},
          "execution_count": 21
        }
      ]
    },
    {
      "cell_type": "code",
      "source": [
        "z"
      ],
      "metadata": {
        "colab": {
          "base_uri": "https://localhost:8080/"
        },
        "id": "EbVFYlTGBEJW",
        "outputId": "01495aba-1980-4be0-bfb2-be63e1f0d916"
      },
      "execution_count": null,
      "outputs": [
        {
          "output_type": "execute_result",
          "data": {
            "text/plain": [
              "array([1, 2, 3, 4, 5])"
            ]
          },
          "metadata": {},
          "execution_count": 22
        }
      ]
    },
    {
      "cell_type": "code",
      "source": [
        "a"
      ],
      "metadata": {
        "colab": {
          "base_uri": "https://localhost:8080/"
        },
        "id": "dHXk993nBHJa",
        "outputId": "1bbfafac-ce53-4dfa-aea7-b709425cd6ef"
      },
      "execution_count": null,
      "outputs": [
        {
          "output_type": "execute_result",
          "data": {
            "text/plain": [
              "array([  1,   2, 345,   4,   5])"
            ]
          },
          "metadata": {},
          "execution_count": 23
        }
      ]
    },
    {
      "cell_type": "markdown",
      "source": [
        "#SHAPE OF ARRAY\n",
        "array name.shape"
      ],
      "metadata": {
        "id": "Uz7RsfGJr7hE"
      }
    },
    {
      "cell_type": "code",
      "source": [
        "x.shape"
      ],
      "metadata": {
        "colab": {
          "base_uri": "https://localhost:8080/"
        },
        "id": "_ufZm-n5sBCs",
        "outputId": "8a6e1cac-ebc4-4733-80a8-dc140f7c0ce9"
      },
      "execution_count": null,
      "outputs": [
        {
          "output_type": "execute_result",
          "data": {
            "text/plain": [
              "(5,)"
            ]
          },
          "metadata": {},
          "execution_count": 24
        }
      ]
    },
    {
      "cell_type": "code",
      "source": [
        "two_d.shape"
      ],
      "metadata": {
        "colab": {
          "base_uri": "https://localhost:8080/"
        },
        "id": "7zYCNouCsR5u",
        "outputId": "004a86a2-348f-47ff-9b88-4c34ffefd5a7"
      },
      "execution_count": null,
      "outputs": [
        {
          "output_type": "execute_result",
          "data": {
            "text/plain": [
              "(2, 4)"
            ]
          },
          "metadata": {},
          "execution_count": 25
        }
      ]
    },
    {
      "cell_type": "code",
      "source": [
        "three_d.shape"
      ],
      "metadata": {
        "colab": {
          "base_uri": "https://localhost:8080/"
        },
        "id": "2gNZP_UnsVN8",
        "outputId": "39a5ce14-d411-4ccf-8677-02c3c36a95bf"
      },
      "execution_count": null,
      "outputs": [
        {
          "output_type": "execute_result",
          "data": {
            "text/plain": [
              "(3, 2, 3)"
            ]
          },
          "metadata": {},
          "execution_count": 26
        }
      ]
    },
    {
      "cell_type": "markdown",
      "source": [
        "#RESHAPING THE ARRAY\n",
        "**1D array ->2-D array**\n",
        "variable.reshape(m,n)->(mxn)=size of the  1-d array,\n",
        "m-1_d arrays,n-elemnets in each array\n",
        "**1-D array ->3-D array**\n",
        "variable.reshape(l,m,n)->(lxmxn)=size of the  1-d array.l-2_d arrays,m-lists in each 2 d array,n-elements in each list\n",
        "**Any array ->1-d array**\n",
        "array name.reshape(-1)"
      ],
      "metadata": {
        "id": "04HYSZGbtDqW"
      }
    },
    {
      "cell_type": "code",
      "source": [
        "b=np.array([0,1,2,3,4,5,6,7,8,9])"
      ],
      "metadata": {
        "id": "GztmytRcsjOb"
      },
      "execution_count": null,
      "outputs": []
    },
    {
      "cell_type": "code",
      "source": [
        "b.reshape(5,2)"
      ],
      "metadata": {
        "colab": {
          "base_uri": "https://localhost:8080/"
        },
        "id": "cKPlWyd2tyGm",
        "outputId": "cb2c10d6-ac10-4732-d4da-ee2d971345a5"
      },
      "execution_count": null,
      "outputs": [
        {
          "output_type": "execute_result",
          "data": {
            "text/plain": [
              "array([[0, 1],\n",
              "       [2, 3],\n",
              "       [4, 5],\n",
              "       [6, 7],\n",
              "       [8, 9]])"
            ]
          },
          "metadata": {},
          "execution_count": 30
        }
      ]
    },
    {
      "cell_type": "code",
      "source": [
        "b.reshape(2,5)"
      ],
      "metadata": {
        "colab": {
          "base_uri": "https://localhost:8080/"
        },
        "id": "PkjbxSd4uLfy",
        "outputId": "59157e07-4c42-4359-8d92-587714b4f01e"
      },
      "execution_count": null,
      "outputs": [
        {
          "output_type": "execute_result",
          "data": {
            "text/plain": [
              "array([[0, 1, 2, 3, 4],\n",
              "       [5, 6, 7, 8, 9]])"
            ]
          },
          "metadata": {},
          "execution_count": 31
        }
      ]
    },
    {
      "cell_type": "code",
      "source": [
        "c=np.array([9,8,7,6,5,4,3,2,1,0,9,45])"
      ],
      "metadata": {
        "id": "O_diLH07vSU1"
      },
      "execution_count": null,
      "outputs": []
    },
    {
      "cell_type": "code",
      "source": [
        "c.reshape(2,3,2)"
      ],
      "metadata": {
        "colab": {
          "base_uri": "https://localhost:8080/"
        },
        "id": "IWoJok1Zvc4x",
        "outputId": "adc6adc5-fb64-4227-aa56-ec511966721a"
      },
      "execution_count": null,
      "outputs": [
        {
          "output_type": "execute_result",
          "data": {
            "text/plain": [
              "array([[[ 9,  8],\n",
              "        [ 7,  6],\n",
              "        [ 5,  4]],\n",
              "\n",
              "       [[ 3,  2],\n",
              "        [ 1,  0],\n",
              "        [ 9, 45]]])"
            ]
          },
          "metadata": {},
          "execution_count": 38
        }
      ]
    },
    {
      "cell_type": "code",
      "source": [
        "d=c.reshape(3,2,2)"
      ],
      "metadata": {
        "id": "RZySg_dSwVcx"
      },
      "execution_count": null,
      "outputs": []
    },
    {
      "cell_type": "code",
      "source": [
        "c.reshape(4,3,1)"
      ],
      "metadata": {
        "colab": {
          "base_uri": "https://localhost:8080/"
        },
        "id": "IMOGNh8gwqUP",
        "outputId": "478e7b72-0b6a-4041-b84d-281abf9c8c4c"
      },
      "execution_count": null,
      "outputs": [
        {
          "output_type": "execute_result",
          "data": {
            "text/plain": [
              "array([[[ 9],\n",
              "        [ 8],\n",
              "        [ 7]],\n",
              "\n",
              "       [[ 6],\n",
              "        [ 5],\n",
              "        [ 4]],\n",
              "\n",
              "       [[ 3],\n",
              "        [ 2],\n",
              "        [ 1]],\n",
              "\n",
              "       [[ 0],\n",
              "        [ 9],\n",
              "        [45]]])"
            ]
          },
          "metadata": {},
          "execution_count": 40
        }
      ]
    },
    {
      "cell_type": "code",
      "source": [
        "d.reshape(-1)"
      ],
      "metadata": {
        "colab": {
          "base_uri": "https://localhost:8080/"
        },
        "id": "yBbl93bExmLp",
        "outputId": "53c15ad5-3c7a-49cf-cd85-4d1eb155c98d"
      },
      "execution_count": null,
      "outputs": [
        {
          "output_type": "execute_result",
          "data": {
            "text/plain": [
              "array([ 9,  8,  7,  6,  5,  4,  3,  2,  1,  0,  9, 45])"
            ]
          },
          "metadata": {},
          "execution_count": 42
        }
      ]
    },
    {
      "cell_type": "markdown",
      "source": [
        "#ITERATION\n",
        "for loop\n",
        "for variable in array_name:\n",
        "print(variable)"
      ],
      "metadata": {
        "id": "jGfhwBTnyCuV"
      }
    },
    {
      "cell_type": "code",
      "source": [
        "for i in two_d:\n",
        " print(i)"
      ],
      "metadata": {
        "colab": {
          "base_uri": "https://localhost:8080/"
        },
        "id": "cuzIN2TEyr-a",
        "outputId": "703a0f50-318c-4fa2-cffa-d36de9387cd6"
      },
      "execution_count": null,
      "outputs": [
        {
          "output_type": "stream",
          "name": "stdout",
          "text": [
            "[1 3 5 7]\n",
            "[2 4 6 8]\n"
          ]
        }
      ]
    },
    {
      "cell_type": "code",
      "source": [
        "for i in two_d:\n",
        "  for j in i:\n",
        "    print(j)"
      ],
      "metadata": {
        "colab": {
          "base_uri": "https://localhost:8080/"
        },
        "id": "OHVyFUdnzGMi",
        "outputId": "a99a557a-e2a4-4c6e-d918-335054d5c6f2"
      },
      "execution_count": null,
      "outputs": [
        {
          "output_type": "stream",
          "name": "stdout",
          "text": [
            "1\n",
            "3\n",
            "5\n",
            "7\n",
            "2\n",
            "4\n",
            "6\n",
            "8\n"
          ]
        }
      ]
    },
    {
      "cell_type": "code",
      "source": [
        "for i in three_d:\n",
        "  for j in i:\n",
        "    print(j)"
      ],
      "metadata": {
        "colab": {
          "base_uri": "https://localhost:8080/"
        },
        "id": "cLuQPWptzRc5",
        "outputId": "c2fefc32-f706-4b5b-e4b2-f9e894cda8e0"
      },
      "execution_count": null,
      "outputs": [
        {
          "output_type": "stream",
          "name": "stdout",
          "text": [
            "[1 2 3]\n",
            "[4 5 6]\n",
            "[2 4 6]\n",
            "[3 5 7]\n",
            "[9 8 7]\n",
            "[3 6 7]\n"
          ]
        }
      ]
    },
    {
      "cell_type": "code",
      "source": [
        "for i in three_d:\n",
        "  for j in i:\n",
        "    for k in j:\n",
        "     print(k)"
      ],
      "metadata": {
        "colab": {
          "base_uri": "https://localhost:8080/"
        },
        "id": "tiijnihSz3dk",
        "outputId": "2f429c43-b6ed-479d-8073-e943e43f9691"
      },
      "execution_count": null,
      "outputs": [
        {
          "output_type": "stream",
          "name": "stdout",
          "text": [
            "1\n",
            "2\n",
            "3\n",
            "4\n",
            "5\n",
            "6\n",
            "2\n",
            "4\n",
            "6\n",
            "3\n",
            "5\n",
            "7\n",
            "9\n",
            "8\n",
            "7\n",
            "3\n",
            "6\n",
            "7\n"
          ]
        }
      ]
    },
    {
      "cell_type": "markdown",
      "source": [
        "# COMBINING ARRAYS\n",
        "i.e concatenate\n",
        "variable=np.concatenate(array1,array2)"
      ],
      "metadata": {
        "id": "lmJRgwtZ0Gm5"
      }
    },
    {
      "cell_type": "code",
      "source": [
        "f=np.concatenate((x,y))"
      ],
      "metadata": {
        "id": "Hgmo6xlT0Zu2"
      },
      "execution_count": null,
      "outputs": []
    },
    {
      "cell_type": "code",
      "source": [
        "print(f)"
      ],
      "metadata": {
        "colab": {
          "base_uri": "https://localhost:8080/"
        },
        "id": "lO_Rc2Hc0wA0",
        "outputId": "c2e85029-171f-47a8-a6b6-b2d857b47dc0"
      },
      "execution_count": null,
      "outputs": [
        {
          "output_type": "stream",
          "name": "stdout",
          "text": [
            "[  1   2 345   4   5   3   4   6   8   9]\n"
          ]
        }
      ]
    },
    {
      "cell_type": "code",
      "source": [
        "tw0_d1=np.array([[1,3,5,7],[2,4,5,6]])"
      ],
      "metadata": {
        "id": "326hBP7_1GpL"
      },
      "execution_count": null,
      "outputs": []
    },
    {
      "cell_type": "code",
      "source": [
        "h=np.concatenate((two_d,tw0_d1),axis=0)"
      ],
      "metadata": {
        "id": "ILpXw_4I1iOg"
      },
      "execution_count": null,
      "outputs": []
    },
    {
      "cell_type": "code",
      "source": [
        "print(h)"
      ],
      "metadata": {
        "colab": {
          "base_uri": "https://localhost:8080/"
        },
        "id": "56BbYWyk1qlp",
        "outputId": "b44881d6-3388-492b-9b1f-7130da2e4111"
      },
      "execution_count": null,
      "outputs": [
        {
          "output_type": "stream",
          "name": "stdout",
          "text": [
            "[[1 3 5 7]\n",
            " [2 4 6 8]\n",
            " [1 3 5 7]\n",
            " [2 4 5 6]]\n"
          ]
        }
      ]
    },
    {
      "cell_type": "code",
      "source": [
        "i=np.concatenate((two_d,tw0_d1),axis=1)"
      ],
      "metadata": {
        "id": "QZGXYw9h2AxA"
      },
      "execution_count": null,
      "outputs": []
    },
    {
      "cell_type": "code",
      "source": [
        "print(i)"
      ],
      "metadata": {
        "colab": {
          "base_uri": "https://localhost:8080/"
        },
        "id": "nB67y1-G2ElC",
        "outputId": "ef7077cb-5460-4b3c-ba6f-1b8b3e67b543"
      },
      "execution_count": null,
      "outputs": [
        {
          "output_type": "stream",
          "name": "stdout",
          "text": [
            "[[1 3 5 7 1 3 5 7]\n",
            " [2 4 6 8 2 4 5 6]]\n"
          ]
        }
      ]
    },
    {
      "cell_type": "markdown",
      "source": [
        "# SEARCH ELEMENT IN ARRAY\n",
        " variable=np.search(array_name==element)\n",
        " result->index of the element"
      ],
      "metadata": {
        "id": "J96RSubH2QLe"
      }
    },
    {
      "cell_type": "code",
      "source": [
        "np.where(x==5)"
      ],
      "metadata": {
        "colab": {
          "base_uri": "https://localhost:8080/"
        },
        "id": "eFEJYgXh2gKx",
        "outputId": "a45f3541-aa20-4700-f938-2af48171eec0"
      },
      "execution_count": null,
      "outputs": [
        {
          "output_type": "execute_result",
          "data": {
            "text/plain": [
              "(array([4]),)"
            ]
          },
          "metadata": {},
          "execution_count": 65
        }
      ]
    },
    {
      "cell_type": "markdown",
      "source": [
        "# SORT ELEMENTS\n",
        "print(np.sort(array name))"
      ],
      "metadata": {
        "id": "B9ZqKY4P3ASO"
      }
    },
    {
      "cell_type": "code",
      "source": [
        "np.sort(x)"
      ],
      "metadata": {
        "colab": {
          "base_uri": "https://localhost:8080/"
        },
        "id": "3CEKk5S-2ykL",
        "outputId": "d5f6c13c-8645-4fa5-a91a-03c732dca5af"
      },
      "execution_count": null,
      "outputs": [
        {
          "output_type": "execute_result",
          "data": {
            "text/plain": [
              "array([  1,   2,   4,   5, 345])"
            ]
          },
          "metadata": {},
          "execution_count": 66
        }
      ]
    },
    {
      "cell_type": "markdown",
      "source": [
        "#NUMPY ZEROS,ONES,FULLS\n",
        "np.zeros((index))\n",
        "np.ones((index))\n",
        "np.full((index),number in place of elements)"
      ],
      "metadata": {
        "id": "nD9hixTe4lEW"
      }
    },
    {
      "cell_type": "code",
      "source": [
        "np.zeros((5,5))"
      ],
      "metadata": {
        "colab": {
          "base_uri": "https://localhost:8080/"
        },
        "id": "eMT7C5mR3kGT",
        "outputId": "b15521e6-efc7-4e4b-da93-e3f5fcc3f628"
      },
      "execution_count": null,
      "outputs": [
        {
          "output_type": "execute_result",
          "data": {
            "text/plain": [
              "array([[0., 0., 0., 0., 0.],\n",
              "       [0., 0., 0., 0., 0.],\n",
              "       [0., 0., 0., 0., 0.],\n",
              "       [0., 0., 0., 0., 0.],\n",
              "       [0., 0., 0., 0., 0.]])"
            ]
          },
          "metadata": {},
          "execution_count": 68
        }
      ]
    },
    {
      "cell_type": "code",
      "source": [
        "np.zeros((2,4))"
      ],
      "metadata": {
        "colab": {
          "base_uri": "https://localhost:8080/"
        },
        "id": "RRKBMyGk5bu8",
        "outputId": "4b6bf792-0621-4b28-d4ab-6e073b0284d8"
      },
      "execution_count": null,
      "outputs": [
        {
          "output_type": "execute_result",
          "data": {
            "text/plain": [
              "array([[0., 0., 0., 0.],\n",
              "       [0., 0., 0., 0.]])"
            ]
          },
          "metadata": {},
          "execution_count": 71
        }
      ]
    },
    {
      "cell_type": "code",
      "source": [
        "np.zeros((2,3,4))"
      ],
      "metadata": {
        "colab": {
          "base_uri": "https://localhost:8080/"
        },
        "id": "UKC4m_t65hXn",
        "outputId": "188839d6-8608-401e-bc1a-bd560c8daea2"
      },
      "execution_count": null,
      "outputs": [
        {
          "output_type": "execute_result",
          "data": {
            "text/plain": [
              "array([[[0., 0., 0., 0.],\n",
              "        [0., 0., 0., 0.],\n",
              "        [0., 0., 0., 0.]],\n",
              "\n",
              "       [[0., 0., 0., 0.],\n",
              "        [0., 0., 0., 0.],\n",
              "        [0., 0., 0., 0.]]])"
            ]
          },
          "metadata": {},
          "execution_count": 72
        }
      ]
    },
    {
      "cell_type": "code",
      "source": [
        "np.ones((5,8))"
      ],
      "metadata": {
        "colab": {
          "base_uri": "https://localhost:8080/"
        },
        "id": "Hp7C-wea47WG",
        "outputId": "7a8289e7-0dac-4ca7-b96e-89c3e3516907"
      },
      "execution_count": null,
      "outputs": [
        {
          "output_type": "execute_result",
          "data": {
            "text/plain": [
              "array([[1., 1., 1., 1., 1., 1., 1., 1.],\n",
              "       [1., 1., 1., 1., 1., 1., 1., 1.],\n",
              "       [1., 1., 1., 1., 1., 1., 1., 1.],\n",
              "       [1., 1., 1., 1., 1., 1., 1., 1.],\n",
              "       [1., 1., 1., 1., 1., 1., 1., 1.]])"
            ]
          },
          "metadata": {},
          "execution_count": 69
        }
      ]
    },
    {
      "cell_type": "code",
      "source": [
        "np.full((6,7),10)"
      ],
      "metadata": {
        "colab": {
          "base_uri": "https://localhost:8080/"
        },
        "id": "EuaAhlg_4_uj",
        "outputId": "014287ef-6161-4fe9-a105-8e4224c3e6d0"
      },
      "execution_count": null,
      "outputs": [
        {
          "output_type": "execute_result",
          "data": {
            "text/plain": [
              "array([[10, 10, 10, 10, 10, 10, 10],\n",
              "       [10, 10, 10, 10, 10, 10, 10],\n",
              "       [10, 10, 10, 10, 10, 10, 10],\n",
              "       [10, 10, 10, 10, 10, 10, 10],\n",
              "       [10, 10, 10, 10, 10, 10, 10],\n",
              "       [10, 10, 10, 10, 10, 10, 10]])"
            ]
          },
          "metadata": {},
          "execution_count": 70
        }
      ]
    },
    {
      "cell_type": "markdown",
      "source": [
        "# ARRANGE ELEMENTS IN ARRAY\n",
        "** without actually giving elements**\n",
        " np.arange(starting no of elements,ending value of elements,difference between two elements )"
      ],
      "metadata": {
        "id": "eIDITAgZ9iXd"
      }
    },
    {
      "cell_type": "code",
      "source": [
        "np.arange(9,45,9)"
      ],
      "metadata": {
        "colab": {
          "base_uri": "https://localhost:8080/"
        },
        "id": "byMDmL9g9glo",
        "outputId": "4d88f03f-d103-4691-cf32-24be888173ef"
      },
      "execution_count": null,
      "outputs": [
        {
          "output_type": "execute_result",
          "data": {
            "text/plain": [
              "array([ 9, 18, 27, 36])"
            ]
          },
          "metadata": {},
          "execution_count": 76
        }
      ]
    },
    {
      "cell_type": "code",
      "source": [
        "np.arange(2,20)"
      ],
      "metadata": {
        "colab": {
          "base_uri": "https://localhost:8080/"
        },
        "id": "gMlO7hNJ-WVA",
        "outputId": "6bff98be-9f08-4190-df0e-7c0cf1855e4f"
      },
      "execution_count": null,
      "outputs": [
        {
          "output_type": "execute_result",
          "data": {
            "text/plain": [
              "array([ 2,  3,  4,  5,  6,  7,  8,  9, 10, 11, 12, 13, 14, 15, 16, 17, 18,\n",
              "       19])"
            ]
          },
          "metadata": {},
          "execution_count": 77
        }
      ]
    },
    {
      "cell_type": "markdown",
      "source": [
        "# MATHEMATICAL MANIPULATION\n",
        "np.add(arra_1,arr_2)\n",
        "replace->add with 1.subtract\n",
        "2.multiply\n",
        "3.divide\n",
        "**SUM OF ELEMENTS IN THE ARRAY**\n",
        "np.sum(array_name)\n",
        "**MEAN**\n",
        "np.mean(arra_name)"
      ],
      "metadata": {
        "id": "uFbkdcRB-_2Y"
      }
    },
    {
      "cell_type": "code",
      "source": [
        "np.add(x,y)"
      ],
      "metadata": {
        "colab": {
          "base_uri": "https://localhost:8080/"
        },
        "id": "WVxFxuNU-_LW",
        "outputId": "62084a84-bd97-469c-b782-3c45220b768c"
      },
      "execution_count": null,
      "outputs": [
        {
          "output_type": "execute_result",
          "data": {
            "text/plain": [
              "array([  4,   6, 351,  12,  14])"
            ]
          },
          "metadata": {},
          "execution_count": 78
        }
      ]
    },
    {
      "cell_type": "code",
      "source": [
        "np.subtract(x,y)"
      ],
      "metadata": {
        "colab": {
          "base_uri": "https://localhost:8080/"
        },
        "id": "pdJi7KPZ_v_9",
        "outputId": "d04fe1e3-2506-4a8c-e3eb-08b217cc2654"
      },
      "execution_count": null,
      "outputs": [
        {
          "output_type": "execute_result",
          "data": {
            "text/plain": [
              "array([ -2,  -2, 339,  -4,  -4])"
            ]
          },
          "metadata": {},
          "execution_count": 79
        }
      ]
    },
    {
      "cell_type": "code",
      "source": [
        "np.multiply(x,y)"
      ],
      "metadata": {
        "colab": {
          "base_uri": "https://localhost:8080/"
        },
        "id": "GSLWS4Mr_0aN",
        "outputId": "d99d7303-03f0-40ec-f7db-2ba2ce76fb2c"
      },
      "execution_count": null,
      "outputs": [
        {
          "output_type": "execute_result",
          "data": {
            "text/plain": [
              "array([   3,    8, 2070,   32,   45])"
            ]
          },
          "metadata": {},
          "execution_count": 81
        }
      ]
    },
    {
      "cell_type": "code",
      "source": [
        "np.divide(y,x)"
      ],
      "metadata": {
        "colab": {
          "base_uri": "https://localhost:8080/"
        },
        "id": "dzQV-FNW__gS",
        "outputId": "fa5530e0-c9a7-44cd-9c2b-9dd8f82b886d"
      },
      "execution_count": null,
      "outputs": [
        {
          "output_type": "execute_result",
          "data": {
            "text/plain": [
              "array([3.       , 2.       , 0.0173913, 2.       , 1.8      ])"
            ]
          },
          "metadata": {},
          "execution_count": 82
        }
      ]
    },
    {
      "cell_type": "code",
      "source": [
        "np.sum(three_d)"
      ],
      "metadata": {
        "colab": {
          "base_uri": "https://localhost:8080/"
        },
        "id": "3-969y3cAvZ4",
        "outputId": "aae6c78f-6885-4b49-bf9e-c81a6b3c0c5c"
      },
      "execution_count": null,
      "outputs": [
        {
          "output_type": "execute_result",
          "data": {
            "text/plain": [
              "88"
            ]
          },
          "metadata": {},
          "execution_count": 83
        }
      ]
    },
    {
      "cell_type": "code",
      "source": [
        "np.sum(three_d,axis=0)"
      ],
      "metadata": {
        "colab": {
          "base_uri": "https://localhost:8080/"
        },
        "id": "pAGZz-VhA7TD",
        "outputId": "78cefb4c-63b1-4c4a-c3ba-c02e27b6c75d"
      },
      "execution_count": null,
      "outputs": [
        {
          "output_type": "execute_result",
          "data": {
            "text/plain": [
              "array([[12, 14, 16],\n",
              "       [10, 16, 20]])"
            ]
          },
          "metadata": {},
          "execution_count": 84
        }
      ]
    },
    {
      "cell_type": "code",
      "source": [
        "np.sum(three_d,axis=1)"
      ],
      "metadata": {
        "colab": {
          "base_uri": "https://localhost:8080/"
        },
        "id": "auAblkZeBGg4",
        "outputId": "f2bd0714-5fe8-4e49-d728-331d81d79d84"
      },
      "execution_count": null,
      "outputs": [
        {
          "output_type": "execute_result",
          "data": {
            "text/plain": [
              "array([[ 5,  7,  9],\n",
              "       [ 5,  9, 13],\n",
              "       [12, 14, 14]])"
            ]
          },
          "metadata": {},
          "execution_count": 85
        }
      ]
    },
    {
      "cell_type": "code",
      "source": [
        "np.mean(x)\n"
      ],
      "metadata": {
        "colab": {
          "base_uri": "https://localhost:8080/"
        },
        "id": "uxrUJ-OPCRfF",
        "outputId": "f11c5635-0dd8-42d1-916d-035e8604a225"
      },
      "execution_count": null,
      "outputs": [
        {
          "output_type": "execute_result",
          "data": {
            "text/plain": [
              "71.4"
            ]
          },
          "metadata": {},
          "execution_count": 87
        }
      ]
    },
    {
      "cell_type": "code",
      "source": [
        "np.mean(two_d)"
      ],
      "metadata": {
        "colab": {
          "base_uri": "https://localhost:8080/"
        },
        "id": "NSh5ctgyCUgW",
        "outputId": "89e320a5-282e-4eec-93dc-a01b155fc3e9"
      },
      "execution_count": null,
      "outputs": [
        {
          "output_type": "execute_result",
          "data": {
            "text/plain": [
              "4.5"
            ]
          },
          "metadata": {},
          "execution_count": 88
        }
      ]
    },
    {
      "cell_type": "code",
      "source": [
        "np.mean(three_d)"
      ],
      "metadata": {
        "colab": {
          "base_uri": "https://localhost:8080/"
        },
        "id": "Czu-h7lZCX6q",
        "outputId": "9592cb32-2609-4111-ab3e-be8717959312"
      },
      "execution_count": null,
      "outputs": [
        {
          "output_type": "execute_result",
          "data": {
            "text/plain": [
              "4.888888888888889"
            ]
          },
          "metadata": {},
          "execution_count": 89
        }
      ]
    },
    {
      "cell_type": "code",
      "source": [
        "np.median(two_d)"
      ],
      "metadata": {
        "colab": {
          "base_uri": "https://localhost:8080/"
        },
        "id": "evoLMStwCb-K",
        "outputId": "b6b7030d-b668-4978-ac9f-7ffbb1d6b51c"
      },
      "execution_count": null,
      "outputs": [
        {
          "output_type": "execute_result",
          "data": {
            "text/plain": [
              "4.5"
            ]
          },
          "metadata": {},
          "execution_count": 90
        }
      ]
    },
    {
      "cell_type": "code",
      "source": [
        "np.median(x)"
      ],
      "metadata": {
        "colab": {
          "base_uri": "https://localhost:8080/"
        },
        "id": "aNugqeRSCiZM",
        "outputId": "daca572b-5aaf-44b3-e621-c032ed5f09fb"
      },
      "execution_count": null,
      "outputs": [
        {
          "output_type": "execute_result",
          "data": {
            "text/plain": [
              "4.0"
            ]
          },
          "metadata": {},
          "execution_count": 91
        }
      ]
    },
    {
      "cell_type": "markdown",
      "source": [
        "#RANDOM GENERATION OF ELEMENTS IN ARRAY\n",
        "np.radom.random((index))\n",
        "np.radom.randint((start_element,end_element),(index))\n"
      ],
      "metadata": {
        "id": "enwT4sLEIIgM"
      }
    },
    {
      "cell_type": "code",
      "source": [
        "np.random.random((2,2))"
      ],
      "metadata": {
        "colab": {
          "base_uri": "https://localhost:8080/"
        },
        "id": "GMeg2LCvDpxY",
        "outputId": "2114adca-9ffe-4a17-9739-8cf236b01dec"
      },
      "execution_count": null,
      "outputs": [
        {
          "output_type": "execute_result",
          "data": {
            "text/plain": [
              "array([[0.23127738, 0.75872262],\n",
              "       [0.14961317, 0.77640798]])"
            ]
          },
          "metadata": {},
          "execution_count": 5
        }
      ]
    },
    {
      "cell_type": "code",
      "source": [
        "np.random.randint(2,10,(3,3))"
      ],
      "metadata": {
        "colab": {
          "base_uri": "https://localhost:8080/"
        },
        "id": "bfi_PirwEBAV",
        "outputId": "c27ea1b6-8387-441d-ef92-d361d1e885d8"
      },
      "execution_count": null,
      "outputs": [
        {
          "output_type": "execute_result",
          "data": {
            "text/plain": [
              "array([[6, 7, 4],\n",
              "       [9, 5, 3],\n",
              "       [2, 8, 6]])"
            ]
          },
          "metadata": {},
          "execution_count": 6
        }
      ]
    },
    {
      "cell_type": "code",
      "source": [],
      "metadata": {
        "id": "NTHHVzOiEgXv"
      },
      "execution_count": null,
      "outputs": []
    }
  ]
}